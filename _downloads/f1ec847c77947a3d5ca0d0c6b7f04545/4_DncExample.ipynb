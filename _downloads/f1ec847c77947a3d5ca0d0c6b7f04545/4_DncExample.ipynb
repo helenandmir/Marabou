{
  "metadata": {
    "language_info": {
      "file_extension": ".py",
      "nbconvert_exporter": "python",
      "mimetype": "text/x-python",
      "name": "python",
      "pygments_lexer": "ipython3",
      "codemirror_mode": {
        "name": "ipython",
        "version": 3
      },
      "version": "3.5.2"
    },
    "kernelspec": {
      "language": "python",
      "name": "python3",
      "display_name": "Python 3"
    }
  },
  "nbformat": 4,
  "cells": [
    {
      "outputs": [],
      "execution_count": null,
      "metadata": {
        "collapsed": false
      },
      "cell_type": "code",
      "source": [
        "%matplotlib inline"
      ]
    },
    {
      "metadata": {},
      "cell_type": "markdown",
      "source": [
        "\nDNC Example\n====================\n\nTop contributors (to current version):\n  - Andrew Wu\n  - Kyle Julian\n  \nThis file is part of the Marabou project.\nCopyright (c) 2017-2019 by the authors listed in the file AUTHORS\nin the top-level source directory) and their institutional affiliations.\nAll rights reserved. See the file COPYING in the top-level source\ndirectory for licensing information.\n\n"
      ]
    },
    {
      "outputs": [],
      "execution_count": null,
      "metadata": {
        "collapsed": false
      },
      "cell_type": "code",
      "source": [
        "import sys\nimport numpy as np\n\n# Append to path if needed\n#sys.path.append(</Path/To/Marabou/>)\n\nfrom maraboupy import Marabou"
      ]
    },
    {
      "metadata": {},
      "cell_type": "markdown",
      "source": [
        "Load an example network and place an output constraint\n\n"
      ]
    },
    {
      "outputs": [],
      "execution_count": null,
      "metadata": {
        "collapsed": false
      },
      "cell_type": "code",
      "source": [
        "nnet_file_name = \"../../src/input_parsers/acas_example/ACASXU_run2a_1_1_tiny_2.nnet\"\nnet = Marabou.read_nnet(nnet_file_name)\nnet.setLowerBound(net.outputVars[0][0], .5)"
      ]
    },
    {
      "metadata": {},
      "cell_type": "markdown",
      "source": [
        "Solve the query with DNC mode turned on, which should return satisfying variable values\n\n"
      ]
    },
    {
      "outputs": [],
      "execution_count": null,
      "metadata": {
        "collapsed": false
      },
      "cell_type": "code",
      "source": [
        "options = Marabou.createOptions(snc=True, verbosity=0, initialDivides=2);\nvals, stats = net.solve(options=options)\nassert len(vals) > 0"
      ]
    }
  ],
  "nbformat_minor": 0
}