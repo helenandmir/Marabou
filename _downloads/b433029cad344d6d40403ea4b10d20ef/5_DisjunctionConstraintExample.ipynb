{
  "metadata": {
    "language_info": {
      "file_extension": ".py",
      "nbconvert_exporter": "python",
      "mimetype": "text/x-python",
      "name": "python",
      "pygments_lexer": "ipython3",
      "codemirror_mode": {
        "name": "ipython",
        "version": 3
      },
      "version": "3.5.2"
    },
    "kernelspec": {
      "language": "python",
      "name": "python3",
      "display_name": "Python 3"
    }
  },
  "nbformat": 4,
  "cells": [
    {
      "outputs": [],
      "execution_count": null,
      "metadata": {
        "collapsed": false
      },
      "cell_type": "code",
      "source": [
        "%matplotlib inline"
      ]
    },
    {
      "metadata": {},
      "cell_type": "markdown",
      "source": [
        "\nDisjunction Constraint Example\n====================\n\nTop contributors (to current version):\n  - Haoze Andrew Wu\n\nThis file is part of the Marabou project.\nCopyright (c) 2017-2019 by the authors listed in the file AUTHORS\nin the top-level source directory) and their institutional affiliations.\nAll rights reserved. See the file COPYING in the top-level source\ndirectory for licensing information.\n\n"
      ]
    },
    {
      "outputs": [],
      "execution_count": null,
      "metadata": {
        "collapsed": false
      },
      "cell_type": "code",
      "source": [
        "import sys\nimport numpy as np\n\n## %\n# Path to Marabou folder if you did not export it\n\n# sys.path.append('/home/USER/git/Marabou')\nfrom maraboupy import Marabou\nfrom maraboupy import MarabouCore"
      ]
    },
    {
      "metadata": {},
      "cell_type": "markdown",
      "source": [
        "Path to NNet file\n\n"
      ]
    },
    {
      "outputs": [],
      "execution_count": null,
      "metadata": {
        "collapsed": false
      },
      "cell_type": "code",
      "source": [
        "nnetFile = \"./resources/nnet/mnist/mnist10x10.nnet\""
      ]
    },
    {
      "metadata": {},
      "cell_type": "markdown",
      "source": [
        "Load the network from NNet file, and set a lower bound on first output variable\n\n"
      ]
    },
    {
      "outputs": [],
      "execution_count": null,
      "metadata": {
        "collapsed": false
      },
      "cell_type": "code",
      "source": [
        "net1 = Marabou.read_nnet(nnetFile)"
      ]
    },
    {
      "metadata": {},
      "cell_type": "markdown",
      "source": [
        "Require that a input variable is either 0 or 1\n\n"
      ]
    },
    {
      "outputs": [],
      "execution_count": null,
      "metadata": {
        "collapsed": false
      },
      "cell_type": "code",
      "source": [
        "for var in net1.inputVars[0]:\n    # eq1: 1 * var = 0\n    eq1 = MarabouCore.Equation(MarabouCore.Equation.EQ);\n    eq1.addAddend(1, var);\n    eq1.setScalar(0);\n\n    # eq2: 1 * var = 1\n    eq2 = MarabouCore.Equation(MarabouCore.Equation.EQ);\n    eq2.addAddend(1, var);\n    eq2.setScalar(1);\n\n    # ( var = 0) \\/ (var = 1)\n    disjunction = [[eq1], [eq2]]\n    net1.addDisjunctionConstraint(disjunction)\n\n    # add additional bounds for the variable\n    net1.setLowerBound(var, 0)\n    net1.setUpperBound(var, 1)"
      ]
    },
    {
      "metadata": {},
      "cell_type": "markdown",
      "source": [
        "Solve Marabou query\n\n"
      ]
    },
    {
      "outputs": [],
      "execution_count": null,
      "metadata": {
        "collapsed": false
      },
      "cell_type": "code",
      "source": [
        "vals1, stats1 = net1.solve()"
      ]
    },
    {
      "metadata": {},
      "cell_type": "markdown",
      "source": [
        "Example statistics\n\n"
      ]
    },
    {
      "outputs": [],
      "execution_count": null,
      "metadata": {
        "collapsed": false
      },
      "cell_type": "code",
      "source": [
        "stats1.getNumSplits()\nstats1.getTotalTime()"
      ]
    },
    {
      "metadata": {},
      "cell_type": "markdown",
      "source": [
        "Eval example\n\nTest that the satisfying assignment found is a real one.\n\n"
      ]
    },
    {
      "outputs": [],
      "execution_count": null,
      "metadata": {
        "collapsed": false
      },
      "cell_type": "code",
      "source": [
        "for i in range(784):\n    assert(abs(vals1[i] - 1) < 0.0000001 or abs(vals1[i]) < 0.0000001)"
      ]
    }
  ],
  "nbformat_minor": 0
}