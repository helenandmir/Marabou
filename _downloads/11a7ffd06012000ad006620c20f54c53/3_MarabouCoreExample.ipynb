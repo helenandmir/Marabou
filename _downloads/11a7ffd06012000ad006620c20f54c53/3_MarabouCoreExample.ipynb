{
  "metadata": {
    "language_info": {
      "file_extension": ".py",
      "nbconvert_exporter": "python",
      "mimetype": "text/x-python",
      "name": "python",
      "pygments_lexer": "ipython3",
      "codemirror_mode": {
        "name": "ipython",
        "version": 3
      },
      "version": "3.5.2"
    },
    "kernelspec": {
      "language": "python",
      "name": "python3",
      "display_name": "Python 3"
    }
  },
  "nbformat": 4,
  "cells": [
    {
      "outputs": [],
      "execution_count": null,
      "metadata": {
        "collapsed": false
      },
      "cell_type": "code",
      "source": [
        "%matplotlib inline"
      ]
    },
    {
      "metadata": {},
      "cell_type": "markdown",
      "source": [
        "\nMarabouCore Example\n====================\n\nTop contributors (to current version):\n  - Christopher Lazarus\n  - Kyle Julian\n  - Andrew Wu\n  \nThis file is part of the Marabou project.\nCopyright (c) 2017-2019 by the authors listed in the file AUTHORS\nin the top-level source directory) and their institutional affiliations.\nAll rights reserved. See the file COPYING in the top-level source\ndirectory for licensing information.\n\n"
      ]
    },
    {
      "outputs": [],
      "execution_count": null,
      "metadata": {
        "collapsed": false
      },
      "cell_type": "code",
      "source": [
        "from maraboupy import MarabouCore\nfrom maraboupy.Marabou import createOptions"
      ]
    },
    {
      "metadata": {},
      "cell_type": "markdown",
      "source": [
        "The example from the CAV'17 paper:\n\n0 <= x0 <= 1\n\n0 <= x1f\n\n0 <= x2f\n\n1/2 <= x3 <= 1\n\nx0 - x1b = 0\n\nx0 + x2b = 0\n\nx1f + x2f - x3 = 0\n\nx1f = Relu(x1b)\n\nx2f = Relu(x2b)\n\nx0: x0\n\nx1: x1b\n\nx2: x1f\n\nx3: x2b\n\nx4: x2f\n\nx5: x3\n\n"
      ]
    },
    {
      "outputs": [],
      "execution_count": null,
      "metadata": {
        "collapsed": false
      },
      "cell_type": "code",
      "source": [
        "large = 10.0"
      ]
    },
    {
      "metadata": {},
      "cell_type": "markdown",
      "source": [
        "Setup Marabou's InputQuery\n\n"
      ]
    },
    {
      "outputs": [],
      "execution_count": null,
      "metadata": {
        "collapsed": false
      },
      "cell_type": "code",
      "source": [
        "inputQuery = MarabouCore.InputQuery()\ninputQuery.setNumberOfVariables(6)"
      ]
    },
    {
      "metadata": {},
      "cell_type": "markdown",
      "source": [
        "Set the lower and upper bounds on variables\n\n"
      ]
    },
    {
      "outputs": [],
      "execution_count": null,
      "metadata": {
        "collapsed": false
      },
      "cell_type": "code",
      "source": [
        "inputQuery.setLowerBound(0, 0)\ninputQuery.setUpperBound(0, 1)\ninputQuery.setLowerBound(1, -large)\ninputQuery.setUpperBound(1, large)\ninputQuery.setLowerBound(2, 0)\ninputQuery.setUpperBound(2, large)\ninputQuery.setLowerBound(3, -large)\ninputQuery.setUpperBound(3, large)\ninputQuery.setLowerBound(4, 0)\ninputQuery.setUpperBound(4, large)\ninputQuery.setLowerBound(5, 0.5)\ninputQuery.setUpperBound(5, 1)"
      ]
    },
    {
      "metadata": {},
      "cell_type": "markdown",
      "source": [
        "Add equation constraints\n\n"
      ]
    },
    {
      "outputs": [],
      "execution_count": null,
      "metadata": {
        "collapsed": false
      },
      "cell_type": "code",
      "source": [
        "equation1 = MarabouCore.Equation()\nequation1.addAddend(1, 0)\nequation1.addAddend(-1, 1)\nequation1.setScalar(0)\ninputQuery.addEquation(equation1)\n\nequation2 = MarabouCore.Equation()\nequation2.addAddend(1, 0)\nequation2.addAddend(1, 3)\nequation2.setScalar(0)\ninputQuery.addEquation(equation2)\n\nequation3 = MarabouCore.Equation()\nequation3.addAddend(1, 2)\nequation3.addAddend(1, 4)\nequation3.addAddend(-1, 5)\nequation3.setScalar(0)\ninputQuery.addEquation(equation3)"
      ]
    },
    {
      "metadata": {},
      "cell_type": "markdown",
      "source": [
        "Add Relu constraints\n\n"
      ]
    },
    {
      "outputs": [],
      "execution_count": null,
      "metadata": {
        "collapsed": false
      },
      "cell_type": "code",
      "source": [
        "MarabouCore.addReluConstraint(inputQuery, 1, 2)\nMarabouCore.addReluConstraint(inputQuery, 3, 4)"
      ]
    },
    {
      "metadata": {},
      "cell_type": "markdown",
      "source": [
        "Run Marabou to solve the query\nThis should return \"sat\"\n\n"
      ]
    },
    {
      "outputs": [],
      "execution_count": null,
      "metadata": {
        "collapsed": false
      },
      "cell_type": "code",
      "source": [
        "options = createOptions()\nvars, stats = MarabouCore.solve(inputQuery, options, \"\")\nif len(vars) > 0:\n    print(\"SAT\")\n    print(vars)\nelse:\n    print(\"UNSAT\")"
      ]
    }
  ],
  "nbformat_minor": 0
}